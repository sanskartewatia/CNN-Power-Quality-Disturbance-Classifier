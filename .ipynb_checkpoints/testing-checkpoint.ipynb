{
 "cells": [
  {
   "cell_type": "code",
   "execution_count": 1,
   "id": "appropriate-chemical",
   "metadata": {},
   "outputs": [],
   "source": [
    "from scipy import signal\n",
    "from scipy.fft import fftshift\n",
    "import matplotlib.pyplot as plt\n",
    "import numpy as np\n",
    "import matplotlib.pyplot as plot\n",
    "from scipy.fft import fft, ifft\n",
    "import pandas as pd\n",
    "import random"
   ]
  },
  {
   "cell_type": "code",
   "execution_count": 33,
   "id": "through-military",
   "metadata": {},
   "outputs": [],
   "source": [
    "a = np.load('numpydata.npy',allow_pickle=True)\n",
    "df = pd.DataFrame(a, columns = ['Signal','Class','Sag','Swell','Intrpn','Harmonic','Flicker','Transient'])"
   ]
  },
  {
   "cell_type": "code",
   "execution_count": 38,
   "id": "traditional-concord",
   "metadata": {},
   "outputs": [
    {
     "data": {
      "text/plain": [
       "52     360\n",
       "51     360\n",
       "4      345\n",
       "42     324\n",
       "41     324\n",
       "425    320\n",
       "415    320\n",
       "0      300\n",
       "65     288\n",
       "45     270\n",
       "2      180\n",
       "1      180\n",
       "5      160\n",
       "6      140\n",
       "3       90\n",
       "Name: Class, dtype: int64"
      ]
     },
     "execution_count": 38,
     "metadata": {},
     "output_type": "execute_result"
    }
   ],
   "source": [
    "df['Class'].value_counts()"
   ]
  },
  {
   "cell_type": "code",
   "execution_count": 2,
   "id": "82917227-eb8e-4295-b47c-510d2dcdd53d",
   "metadata": {},
   "outputs": [
    {
     "ename": "NameError",
     "evalue": "name 'model' is not defined",
     "output_type": "error",
     "traceback": [
      "\u001b[1;31m---------------------------------------------------------------------------\u001b[0m",
      "\u001b[1;31mNameError\u001b[0m                                 Traceback (most recent call last)",
      "\u001b[1;32m<ipython-input-2-4e9b090eea9c>\u001b[0m in \u001b[0;36m<module>\u001b[1;34m\u001b[0m\n\u001b[1;32m----> 1\u001b[1;33m \u001b[0mmodel\u001b[0m\u001b[1;33m.\u001b[0m\u001b[0msave\u001b[0m\u001b[1;33m(\u001b[0m\u001b[1;34m'mod1n'\u001b[0m\u001b[1;33m)\u001b[0m\u001b[1;33m\u001b[0m\u001b[1;33m\u001b[0m\u001b[0m\n\u001b[0m\u001b[0;32m      2\u001b[0m \u001b[0mmodel2\u001b[0m\u001b[1;33m.\u001b[0m\u001b[0msave\u001b[0m\u001b[1;33m(\u001b[0m\u001b[1;34m'mod2n'\u001b[0m\u001b[1;33m)\u001b[0m\u001b[1;33m\u001b[0m\u001b[1;33m\u001b[0m\u001b[0m\n\u001b[0;32m      3\u001b[0m \u001b[0mmodel3\u001b[0m\u001b[1;33m.\u001b[0m\u001b[0msave\u001b[0m\u001b[1;33m(\u001b[0m\u001b[1;34m'mod3n'\u001b[0m\u001b[1;33m)\u001b[0m\u001b[1;33m\u001b[0m\u001b[1;33m\u001b[0m\u001b[0m\n\u001b[0;32m      4\u001b[0m \u001b[0mmodel4\u001b[0m\u001b[1;33m.\u001b[0m\u001b[0msave\u001b[0m\u001b[1;33m(\u001b[0m\u001b[1;34m'mod4n'\u001b[0m\u001b[1;33m)\u001b[0m\u001b[1;33m\u001b[0m\u001b[1;33m\u001b[0m\u001b[0m\n\u001b[0;32m      5\u001b[0m \u001b[0mmodel5\u001b[0m\u001b[1;33m.\u001b[0m\u001b[0msave\u001b[0m\u001b[1;33m(\u001b[0m\u001b[1;34m'mod5n'\u001b[0m\u001b[1;33m)\u001b[0m\u001b[1;33m\u001b[0m\u001b[1;33m\u001b[0m\u001b[0m\n",
      "\u001b[1;31mNameError\u001b[0m: name 'model' is not defined"
     ]
    }
   ],
   "source": [
    "model1.save('mod1n')\n",
    "model2.save('mod2n')\n",
    "model3.save('mod3n')\n",
    "model4.save('mod4n')\n",
    "model5.save('mod5n')\n",
    "model6.save('mod6n')"
   ]
  },
  {
   "cell_type": "code",
   "execution_count": 1,
   "id": "f4efaac2-e649-4187-8d4c-08d75c273be8",
   "metadata": {},
   "outputs": [
    {
     "name": "stderr",
     "output_type": "stream",
     "text": [
      "Using TensorFlow backend.\n"
     ]
    }
   ],
   "source": [
    "from tensorflow.keras import layers, models, optimizers\n",
    "from tensorflow.keras.models import Sequential\n",
    "from tensorflow.keras.layers import Dense\n",
    "from tensorflow.keras.layers import Flatten\n",
    "from tensorflow.keras.optimizers import Adam\n",
    "from tensorflow.keras.layers import BatchNormalization\n",
    "from tensorflow.keras.callbacks import EarlyStopping\n",
    "from numpy import array\n",
    "from keras.utils import np_utils\n",
    "\n",
    "\n",
    "import tensorflow as tf\n",
    "from tensorflow import keras \n",
    "from tensorflow.keras.layers import Conv1D, Dense, Dropout, Input, Concatenate, GlobalMaxPooling1D\n",
    "from tensorflow.keras.models import Model\n",
    "import pandas as pd\n",
    "import numpy as np\n",
    "from tensorflow.keras.layers.experimental import preprocessing\n",
    "from scipy.stats import zscore\n",
    "from sklearn.model_selection import train_test_split\n",
    "import matplotlib.pyplot as plt\n",
    "from tensorflow.keras.models import Sequential\n",
    "from tensorflow.keras.layers import Dense, Activation\n",
    "from tensorflow.keras.callbacks import EarlyStopping\n",
    "from sklearn.utils import shuffle\n",
    "\n",
    "from tensorflow.keras.models import Model\n",
    "from tensorflow.keras.layers import Input, Dense, Flatten, MaxPooling1D, AveragePooling1D\n",
    "import seaborn as sns\n",
    "from sklearn.metrics import classification_report\n",
    "from sklearn.metrics import multilabel_confusion_matrix"
   ]
  },
  {
   "cell_type": "code",
   "execution_count": 2,
   "id": "7a9fa8a2-42ca-447f-96d6-0ee26b93afa4",
   "metadata": {},
   "outputs": [],
   "source": [
    "model = tf.keras.models.load_model('model3_99')"
   ]
  },
  {
   "cell_type": "code",
   "execution_count": 3,
   "id": "da167dba-b6af-4e48-bbda-311c8339f8c0",
   "metadata": {},
   "outputs": [
    {
     "name": "stdout",
     "output_type": "stream",
     "text": [
      "<class 'pandas.core.frame.DataFrame'>\n",
      "RangeIndex: 3961 entries, 0 to 3960\n",
      "Data columns (total 8 columns):\n",
      " #   Column     Non-Null Count  Dtype \n",
      "---  ------     --------------  ----- \n",
      " 0   Signal     3961 non-null   object\n",
      " 1   Class      3961 non-null   object\n",
      " 2   Sag        3961 non-null   object\n",
      " 3   Swell      3961 non-null   object\n",
      " 4   Intrpn     3961 non-null   object\n",
      " 5   Harmonic   3961 non-null   object\n",
      " 6   Flicker    3961 non-null   object\n",
      " 7   Transient  3961 non-null   object\n",
      "dtypes: object(8)\n",
      "memory usage: 247.7+ KB\n"
     ]
    }
   ],
   "source": [
    "a = np.load('numpydata_noise.npy',allow_pickle=True)\n",
    "df = pd.DataFrame(a, columns = ['Signal','Class','Sag','Swell','Intrpn','Harmonic','Flicker','Transient'])\n",
    "df.info(True)\n",
    "\n",
    "signal = df.iloc[:, 0]\n",
    "classes = np.array(df.iloc[:,1]).astype('int32')\n",
    "# classes = np.reshape(classes, (-1,1)).astype('float32')\n",
    "#print(signal[0].shape, classes.shape)\n",
    "df2=df.drop(['Signal','Class'],axis=1)\n",
    "df2=df2.astype(str).astype('float32')\n",
    "yarr=np.array(df2.iloc[:,:]).astype('int32')\n",
    "\n",
    "\n",
    "s = []\n",
    "for i in signal: \n",
    "    s.append(i)\n",
    "signal = np.array(s)\n",
    "\n",
    "signal = np.reshape(signal, (3961,200,1))\n",
    "from sklearn.preprocessing import LabelEncoder\n",
    "\n",
    "encoder = LabelEncoder()\n",
    "encoder.fit(classes)\n",
    "encoded_Y = encoder.transform(classes)\n",
    "# convert integers to dummy variables (i.e. one hot encoded)\n",
    "train_y = np_utils.to_categorical(encoded_Y)\n",
    "x_train, x_test, y_train, y_test = train_test_split(signal, train_y, test_size=0.1, random_state=42)\n"
   ]
  },
  {
   "cell_type": "code",
   "execution_count": 4,
   "id": "c46adb47-9a39-475d-8f13-73d19b663020",
   "metadata": {},
   "outputs": [
    {
     "name": "stdout",
     "output_type": "stream",
     "text": [
      "[0 0 0 0 0 0 0 0 0 0 0 0 0 1 0]\n",
      "[0. 0. 0. 0. 0. 0. 0. 0. 0. 0. 0. 0. 0. 1. 0.]\n"
     ]
    }
   ],
   "source": [
    "pred1 = model.predict(x_test)\n",
    "pred1=(pred1>0.5).astype(int)\n",
    "print(pred1[20])\n",
    "print(y_test[20])"
   ]
  },
  {
   "cell_type": "code",
   "execution_count": 5,
   "id": "07c853ee-b34b-4c92-ad41-394d9d517ba9",
   "metadata": {},
   "outputs": [
    {
     "name": "stdout",
     "output_type": "stream",
     "text": [
      "              precision    recall  f1-score   support\n",
      "\n",
      "           0       1.00      1.00      1.00        27\n",
      "           1       1.00      1.00      1.00        16\n",
      "           2       1.00      1.00      1.00        16\n",
      "           3       1.00      1.00      1.00        11\n",
      "           4       1.00      1.00      1.00        42\n",
      "           5       1.00      0.93      0.96        14\n",
      "           6       1.00      1.00      1.00        12\n",
      "           7       1.00      1.00      1.00        25\n",
      "           8       1.00      1.00      1.00        31\n",
      "           9       0.96      1.00      0.98        25\n",
      "          10       1.00      0.97      0.98        32\n",
      "          11       1.00      1.00      1.00        46\n",
      "          12       1.00      1.00      1.00        23\n",
      "          13       0.97      1.00      0.99        35\n",
      "          14       1.00      1.00      1.00        42\n",
      "\n",
      "   micro avg       0.99      0.99      0.99       397\n",
      "   macro avg       1.00      0.99      0.99       397\n",
      "weighted avg       1.00      0.99      0.99       397\n",
      " samples avg       0.99      0.99      0.99       397\n",
      "\n"
     ]
    }
   ],
   "source": [
    "print(classification_report(y_test, pred1,zero_division=0))"
   ]
  },
  {
   "cell_type": "code",
   "execution_count": null,
   "id": "1e99e7e6-cb85-4b16-bfb0-eea3157e33f2",
   "metadata": {},
   "outputs": [],
   "source": []
  },
  {
   "cell_type": "code",
   "execution_count": null,
   "id": "f84a5c4c-3eb9-4eb6-b6de-1232692bf142",
   "metadata": {},
   "outputs": [],
   "source": []
  }
 ],
 "metadata": {
  "kernelspec": {
   "display_name": "Python 3",
   "language": "python",
   "name": "python3"
  },
  "language_info": {
   "codemirror_mode": {
    "name": "ipython",
    "version": 3
   },
   "file_extension": ".py",
   "mimetype": "text/x-python",
   "name": "python",
   "nbconvert_exporter": "python",
   "pygments_lexer": "ipython3",
   "version": "3.6.13"
  }
 },
 "nbformat": 4,
 "nbformat_minor": 5
}
